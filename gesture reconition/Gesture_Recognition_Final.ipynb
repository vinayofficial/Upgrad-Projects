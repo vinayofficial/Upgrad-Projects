{
 "cells": [
  {
   "cell_type": "markdown",
   "metadata": {},
   "source": [
    "# Gesture Recognition\n",
    "In this group project, you are going to build a 3D Conv model that will be able to predict the 5 gestures correctly. Please import the following libraries to get started. Once you have completed the code you can download the notebook for making a submission."
   ]
  },
  {
   "cell_type": "code",
   "execution_count": 1,
   "metadata": {},
   "outputs": [],
   "source": [
    "import numpy as np\n",
    "import os\n",
    "from imageio import imread\n",
    "from skimage.transform import resize\n",
    "import datetime\n",
    "import os"
   ]
  },
  {
   "cell_type": "markdown",
   "metadata": {},
   "source": [
    "We set the random seed so that the results don't vary drastically."
   ]
  },
  {
   "cell_type": "code",
   "execution_count": 2,
   "metadata": {},
   "outputs": [],
   "source": [
    "np.random.seed(30)\n",
    "import random as rn\n",
    "rn.seed(30)\n",
    "from tensorflow import keras\n",
    "import tensorflow as tf\n",
    "tf.random.set_seed(30)"
   ]
  },
  {
   "cell_type": "markdown",
   "metadata": {},
   "source": [
    "In this block, you read the folder names for training and validation. You also set the `batch_size` here. Note that you set the batch size in such a way that you are able to use the GPU in full capacity. You keep increasing the batch size until the machine throws an error."
   ]
  },
  {
   "cell_type": "markdown",
   "metadata": {},
   "source": [
    "**data path: /home/datasets/Project_data**"
   ]
  },
  {
   "cell_type": "code",
   "execution_count": 3,
   "metadata": {},
   "outputs": [],
   "source": [
    "train_doc = np.random.permutation(open('/home/datasets/Project_data/train.csv').readlines())\n",
    "val_doc = np.random.permutation(open('/home/datasets/Project_data/val.csv').readlines())\n",
    "batch_size = 39"
   ]
  },
  {
   "cell_type": "code",
   "execution_count": 4,
   "metadata": {},
   "outputs": [],
   "source": [
    "def image_specifications(nb_frames, x, y):\n",
    "    return [np.round(np.linspace(0, 29, nb_frames)).astype('int'), x, y]\n",
    "\n",
    "\n",
    "img_specs = image_specifications(20, 100, 100)"
   ]
  },
  {
   "cell_type": "markdown",
   "metadata": {},
   "source": [
    "## Generator\n",
    "This is one of the most important part of the code. The overall structure of the generator has been given. In the generator, you are going to preprocess the images as you have images of 2 different dimensions as well as create a batch of video frames. You have to experiment with `img_idx`, `y`,`z` and normalization such that you get high accuracy."
   ]
  },
  {
   "cell_type": "code",
   "execution_count": 5,
   "metadata": {},
   "outputs": [],
   "source": [
    "def get_batch_labels_and_data(source_path, t, batch, batch_size, img_specs):\n",
    "    x, y, z = len(img_specs[0]), img_specs[1], img_specs[2]\n",
    "    img_idx = img_specs[0]  # create a list of image numbers you want to use for a particular video\n",
    "    batch_data = np.zeros((batch_size, x, y, z, 3))  # x is the number of images you use for each video, (y,z) is the final size of the input images and 3 is the number of channels RGB\n",
    "    batch_labels = np.zeros((batch_size, 5))  # batch_labels is the one hot representation of the output\n",
    "    \n",
    "    for folder in range(batch_size):  # iterate over the batch_size\n",
    "        imgs = os.listdir('{0}/{1}'.format(source_path, t[folder + (batch * batch_size)].split(';')[0]))  # read all the images in the folder\n",
    "        \n",
    "        for idx, item in enumerate(img_idx):  # Iterate iver the frames/images of a folder to read them in\n",
    "            image = imread('{0}/{1}/{2}'.format(source_path, t[folder + (batch * batch_size)].strip().split(';')[0], imgs[item])).astype(np.float32)\n",
    "            \n",
    "            #crop the images and resize them. Note that the images are of 2 different shape \n",
    "            #and the conv3D will throw error if the inputs in a batch have different shapes\n",
    "            \n",
    "            if image.shape[0] != image.shape[1]:\n",
    "                image = image[:120, 20:140]\n",
    "            image = resize(image, (y, z))\n",
    "            \n",
    "            batch_data[folder, idx, :, :, 0] = image[:, :, 0] / 255.0  # normalise and feed in the image\n",
    "            batch_data[folder, idx, :, :, 1] = image[:, :, 1] / 255.0  # normalise and feed in the image\n",
    "            batch_data[folder, idx, :, :, 2] = image[:, :, 2] / 255.0  # normalise and feed in the image\n",
    "        \n",
    "        batch_labels[folder, int(t[folder + (batch * batch_size)].strip().split(';')[2])] = 1\n",
    "    \n",
    "    return batch_data, batch_labels\n",
    "\n",
    "\n",
    "def generator(source_path, folder_list, batch_size, img_specs=img_specs):\n",
    "    print(f\"Source Path: {source_path}; Batch Size: {batch_size}\")\n",
    "    while True:\n",
    "        t = np.random.permutation(folder_list)\n",
    "        num_batches = int(len(folder_list) / batch_size)\n",
    "        for batch in range(num_batches):  # we iterate over the number of batches\n",
    "            yield get_batch_labels_and_data(source_path, t, batch, batch_size, img_specs)  # you yield the batch_data and the batch_labels, remember what does yield do\n",
    "        \n",
    "        # write the code for the remaining data points which are left after full batches\n",
    "        if len(folder_list) % batch_size != 0:\n",
    "            batch_size = len(folder_list) % batch_size\n",
    "            yield get_batch_labels_and_data(source_path, t, batch, batch_size, img_specs)  # you yield the batch_data and the batch_labels, remember what does yield do"
   ]
  },
  {
   "cell_type": "markdown",
   "metadata": {},
   "source": [
    "Note here that a video is represented above in the generator as (number of images, height, width, number of channels). Take this into consideration while creating the model architecture."
   ]
  },
  {
   "cell_type": "code",
   "execution_count": 6,
   "metadata": {},
   "outputs": [
    {
     "name": "stdout",
     "output_type": "stream",
     "text": [
      "# training sequences: 663\n",
      "# validation sequences: 100\n",
      "# epcohs: 20\n"
     ]
    }
   ],
   "source": [
    "curr_dt_time = datetime.datetime.now()\n",
    "train_path = '/home/datasets/Project_data/train'\n",
    "val_path = '/home/datasets/Project_data/val'\n",
    "num_train_sequences = len(train_doc)\n",
    "print(f\"# training sequences: {num_train_sequences}\")\n",
    "num_val_sequences = len(val_doc)\n",
    "print(f\"# validation sequences: {num_val_sequences}\")\n",
    "num_epochs = 20 # choose the number of epochs\n",
    "print(f\"# epcohs: {num_epochs}\")"
   ]
  },
  {
   "cell_type": "markdown",
   "metadata": {},
   "source": [
    "## Model\n",
    "Here you make the model using different functionalities that Keras provides. Remember to use `Conv3D` and `MaxPooling3D` and not `Conv2D` and `Maxpooling2D` for a 3D convolution model. You would want to use `TimeDistributed` while building a Conv2D + RNN model. Also remember that the last layer is the softmax. Design the network in such a way that the model is able to give good accuracy on the least number of parameters so that it can fit in the memory of the webcam."
   ]
  },
  {
   "cell_type": "code",
   "execution_count": 7,
   "metadata": {},
   "outputs": [],
   "source": [
    "from tensorflow.keras.models import Sequential\n",
    "\n",
    "from tensorflow.keras.layers import Activation\n",
    "from tensorflow.keras.layers import BatchNormalization\n",
    "from tensorflow.keras.layers import Conv2D\n",
    "from tensorflow.keras.layers import Conv3D\n",
    "from tensorflow.keras.layers import ConvLSTM2D\n",
    "from tensorflow.keras.layers import Dense\n",
    "from tensorflow.keras.layers import Dropout\n",
    "from tensorflow.keras.layers import Flatten\n",
    "from tensorflow.keras.layers import GlobalAveragePooling2D\n",
    "from tensorflow.keras.layers import GlobalAveragePooling3D\n",
    "from tensorflow.keras.layers import GRU\n",
    "from tensorflow.keras.layers import LSTM\n",
    "from tensorflow.keras.layers import MaxPooling3D, MaxPooling2D\n",
    "from tensorflow.keras.layers import TimeDistributed\n",
    "\n",
    "from tensorflow.keras.callbacks import ModelCheckpoint\n",
    "from tensorflow.keras.callbacks import ReduceLROnPlateau\n",
    "\n",
    "from tensorflow.keras import optimizers"
   ]
  },
  {
   "cell_type": "code",
   "execution_count": 8,
   "metadata": {},
   "outputs": [],
   "source": [
    "input_shape = (len(img_specs[0]), img_specs[1], img_specs[2], 3)"
   ]
  },
  {
   "cell_type": "markdown",
   "metadata": {},
   "source": [
    "### Model - 1:"
   ]
  },
  {
   "cell_type": "code",
   "execution_count": 9,
   "metadata": {},
   "outputs": [],
   "source": [
    "# write your model here\n",
    "\n",
    "# model 1 -- base model\n",
    "\n",
    "# model = Sequential()\n",
    "\n",
    "# model.add(Conv3D(32, kernel_size=3, activation='relu', input_shape=input_shape))\n",
    "\n",
    "# model.add(Conv3D(63, kernel_size=3, activation='relu'))\n",
    "# model.add(MaxPooling3D(pool_size=2))\n",
    "\n",
    "# model.add(Flatten())\n",
    "# model.add(Dense(256, activation='relu'))\n",
    "# model.add(Dense(5, activation='softmax'))"
   ]
  },
  {
   "cell_type": "markdown",
   "metadata": {},
   "source": [
    "Number of Epochs: 20 <br />\n",
    "Train accuracy: 0.20 and Validation accuracy: 0.41 <br />\n",
    "The model is unable to learn, adding more layers to the model"
   ]
  },
  {
   "cell_type": "markdown",
   "metadata": {},
   "source": [
    "### Model - 2"
   ]
  },
  {
   "cell_type": "code",
   "execution_count": 10,
   "metadata": {},
   "outputs": [],
   "source": [
    "# model 2 -- increasing the number of layers\n",
    "\n",
    "# model = Sequential()\n",
    "\n",
    "# model.add(Conv3D(16, (3, 3, 3), padding='same',input_shape=input_shape))\n",
    "# model.add(Activation('relu'))\n",
    "# model.add(BatchNormalization())\n",
    "        \n",
    "# model.add(Conv3D(16, (3, 3, 3), padding='same',input_shape=input_shape))\n",
    "# model.add(Activation('relu'))\n",
    "# model.add(BatchNormalization())\n",
    "# model.add(MaxPooling3D(pool_size=(2, 2, 2)))\n",
    "\n",
    "# model.add(Conv3D(32, (3, 3, 3), padding='same'))\n",
    "# model.add(Activation('relu'))\n",
    "# model.add(BatchNormalization())\n",
    "        \n",
    "# model.add(Conv3D(32, (3, 3, 3), padding='same'))\n",
    "# model.add(Activation('relu'))\n",
    "# model.add(BatchNormalization())\n",
    "# model.add(MaxPooling3D(pool_size=(2, 2, 2)))\n",
    "\n",
    "# model.add(Conv3D(64, (3, 3, 3), padding='same'))\n",
    "# model.add(Activation('relu'))\n",
    "# model.add(BatchNormalization())\n",
    "        \n",
    "# model.add(Conv3D(64, (3, 3, 3), padding='same'))\n",
    "# model.add(Activation('relu'))\n",
    "# model.add(BatchNormalization())\n",
    "# model.add(MaxPooling3D(pool_size=(2, 2, 2)))\n",
    "\n",
    "# model.add(Conv3D(128, (3, 3, 3), padding='same'))\n",
    "# model.add(Activation('relu'))\n",
    "# model.add(BatchNormalization())\n",
    "        \n",
    "# model.add(Conv3D(128, (3, 3, 3), padding='same'))\n",
    "# model.add(Activation('relu'))\n",
    "# model.add(BatchNormalization())\n",
    "# model.add(MaxPooling3D(pool_size=(2, 2, 2)))\n",
    "\n",
    "# model.add(Flatten())\n",
    "# model.add(Dense(64, activation='relu'))\n",
    "# model.add(BatchNormalization())\n",
    "# model.add(Dropout(0.25))\n",
    "\n",
    "# model.add(Dense(63, activation='relu'))\n",
    "# model.add(BatchNormalization())\n",
    "# model.add(Dropout(0.25))\n",
    "\n",
    "# model.add(Dense(5, activation='softmax'))"
   ]
  },
  {
   "cell_type": "markdown",
   "metadata": {},
   "source": [
    "Number of Epochs: 20<br />\n",
    "Train accuracy: 0.61 and Validation accuracy: 0.75 <br />\n",
    "The train accuracy and the validation accuracy are sub-par, reducing some of the parameters."
   ]
  },
  {
   "cell_type": "markdown",
   "metadata": {},
   "source": [
    "### Model - 3"
   ]
  },
  {
   "cell_type": "code",
   "execution_count": 11,
   "metadata": {},
   "outputs": [],
   "source": [
    "# model 3 -- reducing the number of parameters\n",
    "\n",
    "# model = Sequential()\n",
    "\n",
    "# model.add(Conv3D(16, (3, 3, 3), padding='same',input_shape=input_shape))\n",
    "# model.add(Activation('relu'))\n",
    "# model.add(BatchNormalization())\n",
    "# model.add(MaxPooling3D(pool_size=(2, 2, 2)))\n",
    "\n",
    "# model.add(Conv3D(32, (2, 2, 2), padding='same'))\n",
    "# model.add(Activation('relu'))\n",
    "# model.add(BatchNormalization())\n",
    "# model.add(MaxPooling3D(pool_size=(2, 2, 2)))\n",
    "\n",
    "# model.add(Conv3D(64, (2, 2, 2), padding='same'))\n",
    "# model.add(Activation('relu'))\n",
    "# model.add(BatchNormalization())\n",
    "# model.add(MaxPooling3D(pool_size=(2, 2, 2)))\n",
    "\n",
    "# model.add(Conv3D(128, (2, 2, 2), padding='same'))\n",
    "# model.add(Activation('relu'))\n",
    "# model.add(BatchNormalization())\n",
    "# model.add(MaxPooling3D(pool_size=(2, 2, 2)))\n",
    "        \n",
    "# model.add(Flatten())\n",
    "# model.add(Dense(64,activation='relu'))\n",
    "# model.add(BatchNormalization())\n",
    "# model.add(Dropout(0.25))\n",
    "\n",
    "# model.add(Dense(64, activation='relu'))\n",
    "# model.add(BatchNormalization())\n",
    "# model.add(Dropout(0.25))\n",
    "\n",
    "# model.add(Dense(5, activation='softmax'))"
   ]
  },
  {
   "cell_type": "markdown",
   "metadata": {},
   "source": [
    "Number of Epcohs: 20 <br />\n",
    "Train accuracuy: 0.97 and Validation accuracy: 0.83 <br />\n",
    "Model seems to be overfitting, reducing the number of parameters even further."
   ]
  },
  {
   "cell_type": "markdown",
   "metadata": {},
   "source": [
    "### Model - 4"
   ]
  },
  {
   "cell_type": "code",
   "execution_count": 12,
   "metadata": {},
   "outputs": [],
   "source": [
    "# model 4 -- reducing even more trainable parameters\n",
    "\n",
    "# model = Sequential()\n",
    "\n",
    "# model.add(Conv3D(16, (3, 3, 3), padding='same',input_shape=input_shape))\n",
    "# model.add(Activation('relu'))\n",
    "# model.add(BatchNormalization())\n",
    "# model.add(MaxPooling3D(pool_size=(2, 2, 2)))\n",
    "\n",
    "# model.add(Conv3D(32, (3, 3, 3), padding='same'))\n",
    "# model.add(Activation('relu'))\n",
    "# model.add(BatchNormalization())\n",
    "# model.add(MaxPooling3D(pool_size=(2, 2, 2)))\n",
    "\n",
    "# model.add(Conv3D(64, (2, 2, 2), padding='same'))\n",
    "# model.add(Activation('relu'))\n",
    "# model.add(BatchNormalization())\n",
    "# model.add(MaxPooling3D(pool_size=(2, 2, 2)))\n",
    "\n",
    "# model.add(Conv3D(128, (2, 2, 2), padding='same'))\n",
    "# model.add(Activation('relu'))\n",
    "# model.add(BatchNormalization())\n",
    "# model.add(MaxPooling3D(pool_size=(2, 2, 2)))\n",
    "        \n",
    "# model.add(Flatten())\n",
    "# model.add(Dense(64, activation='relu'))\n",
    "# model.add(BatchNormalization())\n",
    "# model.add(Dropout(0.25))\n",
    "\n",
    "# model.add(Dense(64, activation='relu'))\n",
    "# model.add(BatchNormalization())\n",
    "# model.add(Dropout(0.25))\n",
    "\n",
    "# model.add(Dense(5, activation='softmax'))"
   ]
  },
  {
   "cell_type": "markdown",
   "metadata": {},
   "source": [
    "Number of Epochs: 20 <br />\n",
    "Train accuracuy: 0.17 and Validation accuracy: 0.5 <br />\n",
    "Reducing the number of parameters too much has lead a model thats significanlty underfitting. <br />\n",
    "Increasing the number of epochs from 20 to 40 and creating a new model as well as removing the Dropout layers."
   ]
  },
  {
   "cell_type": "markdown",
   "metadata": {},
   "source": [
    "### Model - 5"
   ]
  },
  {
   "cell_type": "code",
   "execution_count": 13,
   "metadata": {},
   "outputs": [],
   "source": [
    "# model - 5 -- Increasing the number of parameters\n",
    "\n",
    "# model = Sequential()\n",
    "\n",
    "# model.add(Conv3D(32, kernel_size=3, activation='relu', input_shape=input_shape))\n",
    "# model.add(Conv3D(64, kernel_size=3, activation='relu'))\n",
    "# model.add(MaxPooling3D(pool_size=(2, 2, 2)))\n",
    "# model.add(BatchNormalization())\n",
    "\n",
    "# model.add(Conv3D(128, kernel_size=3, activation='relu'))\n",
    "# model.add(MaxPooling3D(pool_size=(1, 2, 2)))\n",
    "# model.add(BatchNormalization())\n",
    "\n",
    "# model.add(Conv3D(256, kernel_size=(1, 3, 3), activation='relu'))\n",
    "# model.add(MaxPooling3D(pool_size=(1, 2, 2)))\n",
    "# model.add(BatchNormalization())\n",
    "\n",
    "# model.add(Conv3D(512, kernel_size=(1, 3, 3), activation='relu'))\n",
    "# model.add(Conv3D(512, kernel_size=(1, 3, 3), activation='relu'))\n",
    "# model.add(MaxPooling3D(pool_size=(1, 2, 2)))\n",
    "# model.add(BatchNormalization())\n",
    "\n",
    "# model.add(Flatten())\n",
    "# model.add(Dense(512, activation='relu'))\n",
    "# model.add(BatchNormalization())\n",
    "# model.add(Dense(5, activation='softmax'))"
   ]
  },
  {
   "cell_type": "markdown",
   "metadata": {},
   "source": [
    "Number of Epochs: 40<br />\n",
    "Training accuracy: 1.00 and Validation accuracy: 0.91 <br />\n",
    "Model is clearly overfitting. Reducing the number of parameters and adding Dropout layers again."
   ]
  },
  {
   "cell_type": "markdown",
   "metadata": {},
   "source": [
    "### Model - 6"
   ]
  },
  {
   "cell_type": "code",
   "execution_count": 14,
   "metadata": {},
   "outputs": [],
   "source": [
    "# model - 6 -- Reducing number of parameters and re-introducing dropout layers\n",
    "\n",
    "# model = Sequential()\n",
    "\n",
    "# model.add(Conv3D(16, (5, 5, 5), activation='relu', input_shape=input_shape))\n",
    "# model.add(MaxPooling3D((2, 2, 2), padding='same'))\n",
    "# model.add(BatchNormalization())\n",
    "\n",
    "# model.add(Conv3D(32, (3, 3, 3), activation='relu'))\n",
    "# model.add(MaxPooling3D(pool_size=(1, 2, 2), padding='same'))\n",
    "# model.add(BatchNormalization())\n",
    "\n",
    "# model.add(Conv3D(64, (3, 3, 3), activation='relu'))\n",
    "# model.add(MaxPooling3D(pool_size=(1, 2, 2), padding='same'))\n",
    "# model.add(BatchNormalization())\n",
    "\n",
    "# model.add(Flatten())\n",
    "# model.add(Dense(128, activation='relu'))\n",
    "# model.add(BatchNormalization())\n",
    "# model.add(Dropout(0.2))\n",
    "\n",
    "# model.add(Dense(64, activation='relu'))\n",
    "# model.add(BatchNormalization())\n",
    "# model.add(Dropout(0.2))\n",
    "\n",
    "# model.add(Dense(5, activation='softmax'))"
   ]
  },
  {
   "cell_type": "markdown",
   "metadata": {},
   "source": [
    "Number of Epochs: 40 <br />\n",
    "Training accuracy: 0.99 and Validation accuracy: 1.00 <br />\n",
    "Model still seems to overfit on the data, even though the validation accuracy has increased significantly. <br />\n",
    "Increasing the number of Dropout layers, and using GlobalAveragePooling3D instead of Flatten."
   ]
  },
  {
   "cell_type": "markdown",
   "metadata": {},
   "source": [
    "### Model - 7"
   ]
  },
  {
   "cell_type": "code",
   "execution_count": 15,
   "metadata": {},
   "outputs": [],
   "source": [
    "# model - 7 -- Increasing the number of Droupout layers and replaing Flatten with GlobalAveragePooling3D\n",
    "\n",
    "# model = Sequential()\n",
    "\n",
    "# model.add(Conv3D(32, kernel_size=3, activation='relu', input_shape=input_shape))\n",
    "# model.add(Conv3D(64, kernel_size=3, activation='relu'))\n",
    "# model.add(MaxPooling3D(pool_size=(2, 2, 2)))\n",
    "# model.add(BatchNormalization())\n",
    "# model.add(Dropout(0.2))\n",
    "\n",
    "# model.add(Conv3D(128, kernel_size=3, activation='relu'))\n",
    "# model.add(MaxPooling3D(pool_size=(1, 2, 2)))\n",
    "# model.add(BatchNormalization())\n",
    "# model.add(Dropout(0.2))\n",
    "\n",
    "# model.add(Conv3D(256, kernel_size=(1, 3, 3), activation='relu'))\n",
    "# model.add(MaxPooling3D(pool_size=(1, 2, 2)))\n",
    "# model.add(BatchNormalization())\n",
    "# model.add(Dropout(0.2))\n",
    "\n",
    "# model.add(GlobalAveragePooling3D())\n",
    "# model.add(Dense(512, activation='relu'))\n",
    "# model.add(BatchNormalization())\n",
    "# model.add(Dense(5, activation='softmax'))"
   ]
  },
  {
   "cell_type": "markdown",
   "metadata": {},
   "source": [
    "Number of Epochs: 40<br />\n",
    "Train accuracy: 0.99 and Validation accuracy: 0.91 <br />\n",
    "Both the train and validation accuracy are in 0.9 range. <br />\n",
    "However with how close the train accuracy is to 1, trying different architectures as it's highly likely that the model is overfitting."
   ]
  },
  {
   "cell_type": "markdown",
   "metadata": {},
   "source": [
    "### Model - 8"
   ]
  },
  {
   "cell_type": "code",
   "execution_count": 16,
   "metadata": {},
   "outputs": [],
   "source": [
    "# model - 8 -- CNN with LSTM, reducing the number of epochs to 20\n",
    "\n",
    "# model = Sequential()\n",
    "\n",
    "# model.add(TimeDistributed(Conv2D(16, (3, 3) , padding='same', activation='relu'), input_shape=input_shape))\n",
    "# model.add(TimeDistributed(BatchNormalization()))\n",
    "# model.add(TimeDistributed(MaxPooling2D((2, 2))))\n",
    "        \n",
    "# model.add(TimeDistributed(Conv2D(32, (3, 3) , padding='same', activation='relu')))\n",
    "# model.add(TimeDistributed(BatchNormalization()))\n",
    "# model.add(TimeDistributed(MaxPooling2D((2, 2))))\n",
    "        \n",
    "# model.add(TimeDistributed(Conv2D(64, (3, 3) , padding='same', activation='relu')))\n",
    "# model.add(TimeDistributed(BatchNormalization()))\n",
    "# model.add(TimeDistributed(MaxPooling2D((2, 2))))\n",
    "        \n",
    "# model.add(TimeDistributed(Conv2D(128, (3, 3) , padding='same', activation='relu')))\n",
    "# model.add(TimeDistributed(BatchNormalization()))\n",
    "# model.add(TimeDistributed(MaxPooling2D((2, 2))))\n",
    "        \n",
    "# model.add(TimeDistributed(Conv2D(256, (3, 3) , padding='same', activation='relu')))\n",
    "# model.add(TimeDistributed(BatchNormalization()))\n",
    "# model.add(TimeDistributed(MaxPooling2D((2, 2))))\n",
    "\n",
    "# model.add(TimeDistributed(Flatten()))\n",
    "# model.add(LSTM(64))\n",
    "# model.add(Dropout(0.25))\n",
    "        \n",
    "# model.add(Dense(64,activation='relu'))\n",
    "# model.add(Dropout(0.25))\n",
    "        \n",
    "# model.add(Dense(5, activation='softmax'))"
   ]
  },
  {
   "cell_type": "markdown",
   "metadata": {},
   "source": [
    "Number of Epochs: 20 <br />\n",
    "Train accuracy: 0.50 and Validation accuracy: 0.66 <br />\n",
    "The accuracy of the model is sub-par. Trying a different architecture -> Conv2D with GRU"
   ]
  },
  {
   "cell_type": "markdown",
   "metadata": {},
   "source": [
    "### Model - 9"
   ]
  },
  {
   "cell_type": "code",
   "execution_count": 17,
   "metadata": {},
   "outputs": [],
   "source": [
    "# model - 9 -- TimeDistributed Conv2D + GRU\n",
    "\n",
    "# model = Sequential()\n",
    "\n",
    "# model.add(TimeDistributed(Conv2D(32, (3, 3), activation='relu'), input_shape=input_shape))\n",
    "# model.add(TimeDistributed(MaxPooling2D(2, 2)))\n",
    "# model.add(BatchNormalization())\n",
    "\n",
    "# model.add(TimeDistributed(Conv2D(64, (3, 3), activation='relu')))\n",
    "# model.add(TimeDistributed(MaxPooling2D(2, 2)))\n",
    "# model.add(BatchNormalization())\n",
    "\n",
    "# model.add(TimeDistributed(GlobalAveragePooling2D()))\n",
    "# model.add(TimeDistributed(Dense(63, activation='relu')))\n",
    "# model.add(BatchNormalization())\n",
    "\n",
    "# model.add(GRU(128))\n",
    "# model.add(BatchNormalization())\n",
    "# model.add(Dense(5, activation='relu'))"
   ]
  },
  {
   "cell_type": "markdown",
   "metadata": {},
   "source": [
    "Number of Epochs: 40 <br />\n",
    "Train accuracy: 0.96 and Validation accuracy: 0.81 <br />\n",
    "The difference between the train and validation accuracy is significant, adding Dropout layers to the model."
   ]
  },
  {
   "cell_type": "markdown",
   "metadata": {},
   "source": [
    "### Model - 10"
   ]
  },
  {
   "cell_type": "code",
   "execution_count": 18,
   "metadata": {},
   "outputs": [],
   "source": [
    "# model - 10 -- TimeDistributed Conv2D + GRU\n",
    "\n",
    "# model = Sequential()\n",
    "\n",
    "# model.add(TimeDistributed(Conv2D(32, (3, 3), activation='relu'), input_shape=input_shape))\n",
    "# model.add(TimeDistributed(MaxPooling2D(2, 2)))\n",
    "# model.add(BatchNormalization())\n",
    "\n",
    "# model.add(TimeDistributed(Conv2D(64, (3, 3), activation='relu')))\n",
    "# model.add(TimeDistributed(MaxPooling2D(2, 2)))\n",
    "# model.add(BatchNormalization())\n",
    "\n",
    "# model.add(TimeDistributed(GlobalAveragePooling2D()))\n",
    "# model.add(TimeDistributed(Dense(63, activation='relu')))\n",
    "# model.add(BatchNormalization())\n",
    "# model.add(Dropout(0.2))\n",
    "\n",
    "# model.add(GRU(128))\n",
    "# model.add(BatchNormalization())\n",
    "# model.add(Dense(5, activation='relu'))"
   ]
  },
  {
   "cell_type": "markdown",
   "metadata": {},
   "source": [
    "Number of Epochs: 40 <br />\n",
    "Train accuracy: 0.86 and Validation accuracy: 0.58 <br />\n",
    "Changing the model to TimeDistributed Conv2D with GlobalAveragePooling3D, increasing the number of epochs to 50."
   ]
  },
  {
   "cell_type": "markdown",
   "metadata": {},
   "source": [
    "### Model - 11"
   ]
  },
  {
   "cell_type": "code",
   "execution_count": 19,
   "metadata": {},
   "outputs": [],
   "source": [
    "# model - 11 -- TimeDistributed Conv2D with GlobalAvreagePooling3D\n",
    "\n",
    "# model = Sequential()\n",
    "\n",
    "# model.add(TimeDistributed(Conv2D(32, (3, 3), activation='relu'), input_shape=input_shape))\n",
    "# model.add(TimeDistributed(MaxPooling2D(2, 2)))\n",
    "# model.add(BatchNormalization())\n",
    "\n",
    "# model.add(TimeDistributed(Conv2D(64, (3, 3), activation='relu')))\n",
    "# model.add(TimeDistributed(MaxPooling2D(2, 2)))\n",
    "# model.add(BatchNormalization())\n",
    "\n",
    "# model.add(TimeDistributed(Conv2D(128, (3, 3), activation='relu')))\n",
    "# model.add(TimeDistributed(MaxPooling2D(2, 2)))\n",
    "# model.add(BatchNormalization())\n",
    "\n",
    "# model.add(GlobalAveragePooling3D())\n",
    "# model.add(Dense(256, activation='relu'))\n",
    "# model.add(BatchNormalization())\n",
    "# model.add(Dense(5, activation='softmax'))"
   ]
  },
  {
   "cell_type": "markdown",
   "metadata": {},
   "source": [
    "Epochs: 50 <br />\n",
    "Train accuracy: 0.99 and Validation accuracy: 0.91 <br />\n",
    "Both the train and validation accuracy are in the .9 range <br />\n",
    "However with how close the Train accuracy is close to 1 the model is likely overfitting. <br />\n",
    "Introducing Dropout layers to Model - 10, keeping the number of epochs same."
   ]
  },
  {
   "cell_type": "markdown",
   "metadata": {},
   "source": [
    "### Model - 12 - Final Model"
   ]
  },
  {
   "cell_type": "code",
   "execution_count": 27,
   "metadata": {},
   "outputs": [],
   "source": [
    "model = Sequential()\n",
    "\n",
    "model.add(TimeDistributed(Conv2D(32, (3, 3), activation='relu'), input_shape=input_shape))\n",
    "model.add(TimeDistributed(MaxPooling2D(2, 2)))\n",
    "model.add(BatchNormalization())\n",
    "\n",
    "model.add(TimeDistributed(Conv2D(64, (3, 3), activation='relu')))\n",
    "model.add(TimeDistributed(MaxPooling2D(2, 2)))\n",
    "model.add(BatchNormalization())\n",
    "model.add(Dropout(0.25))\n",
    "\n",
    "model.add(TimeDistributed(Conv2D(128, (3, 3), activation='relu')))\n",
    "model.add(TimeDistributed(MaxPooling2D(2, 2)))\n",
    "model.add(BatchNormalization())\n",
    "model.add(Dropout(0.25))\n",
    "\n",
    "model.add(GlobalAveragePooling3D())\n",
    "model.add(Dense(256, activation='relu'))\n",
    "model.add(BatchNormalization())\n",
    "model.add(Dropout(0.5))\n",
    "model.add(Dense(5, activation='softmax'))"
   ]
  },
  {
   "cell_type": "markdown",
   "metadata": {},
   "source": [
    "Number of Epochs: 50 <br />\n",
    "Train accuracy: 0.93 and Validation Accuracy = 0.91 <br />\n",
    "Both the train and validation accuracy are in the range of .9 <br />\n",
    "As well as the difference in the accuracies for the train and validation set is not too significant. <br />\n",
    "Selecting __Model - 12__ (TimeDistributed Conv2D with GlobalAveragePooling3D and Dropouts)."
   ]
  },
  {
   "cell_type": "markdown",
   "metadata": {},
   "source": [
    "Now that you have written the model, the next step is to `compile` the model. When you print the `summary` of the model, you'll see the total number of parameters you have to train."
   ]
  },
  {
   "cell_type": "code",
   "execution_count": 28,
   "metadata": {},
   "outputs": [
    {
     "name": "stdout",
     "output_type": "stream",
     "text": [
      "Model: \"sequential_1\"\n",
      "_________________________________________________________________\n",
      "Layer (type)                 Output Shape              Param #   \n",
      "=================================================================\n",
      "time_distributed_6 (TimeDist (None, 20, 98, 98, 32)    896       \n",
      "_________________________________________________________________\n",
      "time_distributed_7 (TimeDist (None, 20, 49, 49, 32)    0         \n",
      "_________________________________________________________________\n",
      "batch_normalization_4 (Batch (None, 20, 49, 49, 32)    128       \n",
      "_________________________________________________________________\n",
      "time_distributed_8 (TimeDist (None, 20, 47, 47, 64)    18496     \n",
      "_________________________________________________________________\n",
      "time_distributed_9 (TimeDist (None, 20, 23, 23, 64)    0         \n",
      "_________________________________________________________________\n",
      "batch_normalization_5 (Batch (None, 20, 23, 23, 64)    256       \n",
      "_________________________________________________________________\n",
      "dropout_3 (Dropout)          (None, 20, 23, 23, 64)    0         \n",
      "_________________________________________________________________\n",
      "time_distributed_10 (TimeDis (None, 20, 21, 21, 128)   73856     \n",
      "_________________________________________________________________\n",
      "time_distributed_11 (TimeDis (None, 20, 10, 10, 128)   0         \n",
      "_________________________________________________________________\n",
      "batch_normalization_6 (Batch (None, 20, 10, 10, 128)   512       \n",
      "_________________________________________________________________\n",
      "dropout_4 (Dropout)          (None, 20, 10, 10, 128)   0         \n",
      "_________________________________________________________________\n",
      "global_average_pooling3d_1 ( (None, 128)               0         \n",
      "_________________________________________________________________\n",
      "dense_2 (Dense)              (None, 256)               33024     \n",
      "_________________________________________________________________\n",
      "batch_normalization_7 (Batch (None, 256)               1024      \n",
      "_________________________________________________________________\n",
      "dropout_5 (Dropout)          (None, 256)               0         \n",
      "_________________________________________________________________\n",
      "dense_3 (Dense)              (None, 5)                 1285      \n",
      "=================================================================\n",
      "Total params: 129,477\n",
      "Trainable params: 128,517\n",
      "Non-trainable params: 960\n",
      "_________________________________________________________________\n",
      "None\n"
     ]
    }
   ],
   "source": [
    "optimiser = optimizers.Adam(lr=0.01)  # write your optimizer\n",
    "model.compile(optimizer=optimiser, loss='categorical_crossentropy', metrics=['categorical_accuracy'])\n",
    "print(model.summary())"
   ]
  },
  {
   "cell_type": "markdown",
   "metadata": {},
   "source": [
    "Let us create the `train_generator` and the `val_generator` which will be used in `.fit_generator`."
   ]
  },
  {
   "cell_type": "code",
   "execution_count": 29,
   "metadata": {},
   "outputs": [],
   "source": [
    "train_generator = generator(train_path, train_doc, batch_size)\n",
    "val_generator = generator(val_path, val_doc, batch_size)"
   ]
  },
  {
   "cell_type": "code",
   "execution_count": 30,
   "metadata": {},
   "outputs": [],
   "source": [
    "model_name = 'model_init_{}/'.format(str(curr_dt_time).replace(' ', '').replace(':', '_'))\n",
    "    \n",
    "if not os.path.exists(model_name):\n",
    "    os.mkdir(model_name)\n",
    "        \n",
    "filepath = model_name + 'model-{epoch:05d}-{loss:.5f}-{categorical_accuracy:.5f}-{val_loss:.5f}-{val_categorical_accuracy:.5f}.h5'\n",
    "\n",
    "checkpoint = ModelCheckpoint(filepath,\n",
    "                             monitor='val_loss',\n",
    "                             verbose=1,\n",
    "                             save_best_only=False,\n",
    "                             save_weights_only=False,\n",
    "                             mode='auto',\n",
    "                             save_freq='epoch')\n",
    "\n",
    "LR = ReduceLROnPlateau(monitor='val_loss', factor=0.2, patience=5, min_lr=0.001, verbose=1)  # write the REducelronplateau code here\n",
    "\n",
    "callbacks_list = [checkpoint, LR]"
   ]
  },
  {
   "cell_type": "markdown",
   "metadata": {},
   "source": [
    "The `steps_per_epoch` and `validation_steps` are used by `fit` method to decide the number of next() calls it need to make."
   ]
  },
  {
   "cell_type": "code",
   "execution_count": 31,
   "metadata": {},
   "outputs": [],
   "source": [
    "if (num_train_sequences%batch_size) == 0:\n",
    "    steps_per_epoch = int(num_train_sequences/batch_size)\n",
    "else:\n",
    "    steps_per_epoch = (num_train_sequences//batch_size) + 1\n",
    "\n",
    "if (num_val_sequences%batch_size) == 0:\n",
    "    validation_steps = int(num_val_sequences/batch_size)\n",
    "else:\n",
    "    validation_steps = (num_val_sequences//batch_size) + 1"
   ]
  },
  {
   "cell_type": "markdown",
   "metadata": {},
   "source": [
    "Let us now fit the model. This will start training the model and with the help of the checkpoints, you'll be able to save the model at the end of each epoch."
   ]
  },
  {
   "cell_type": "code",
   "execution_count": 32,
   "metadata": {},
   "outputs": [
    {
     "name": "stdout",
     "output_type": "stream",
     "text": [
      "Epochs: 50\n"
     ]
    }
   ],
   "source": [
    "num_epochs = 50\n",
    "print(f\"Epochs: {num_epochs}\")"
   ]
  },
  {
   "cell_type": "code",
   "execution_count": 33,
   "metadata": {},
   "outputs": [
    {
     "name": "stdout",
     "output_type": "stream",
     "text": [
      "Source Path: /home/datasets/Project_data/train; Batch Size: 39\n",
      "Epoch 1/50\n",
      "17/17 [==============================] - ETA: 0s - loss: 2.1430 - categorical_accuracy: 0.3680Source Path: /home/datasets/Project_data/val; Batch Size: 39\n",
      "\n",
      "Epoch 00001: saving model to model_init_2022-01-2603_19_42.550577/model-00001-2.14301-0.36802-22.43014-0.20000.h5\n",
      "17/17 [==============================] - 94s 6s/step - loss: 2.1430 - categorical_accuracy: 0.3680 - val_loss: 22.4301 - val_categorical_accuracy: 0.2000\n",
      "Epoch 2/50\n",
      "17/17 [==============================] - ETA: 0s - loss: 1.4765 - categorical_accuracy: 0.4359\n",
      "Epoch 00002: saving model to model_init_2022-01-2603_19_42.550577/model-00002-1.47647-0.43590-18.36247-0.28788.h5\n",
      "17/17 [==============================] - 87s 5s/step - loss: 1.4765 - categorical_accuracy: 0.4359 - val_loss: 18.3625 - val_categorical_accuracy: 0.2879\n",
      "Epoch 3/50\n",
      "17/17 [==============================] - ETA: 0s - loss: 1.3037 - categorical_accuracy: 0.5068\n",
      "Epoch 00003: saving model to model_init_2022-01-2603_19_42.550577/model-00003-1.30365-0.50679-13.39270-0.19444.h5\n",
      "17/17 [==============================] - 82s 5s/step - loss: 1.3037 - categorical_accuracy: 0.5068 - val_loss: 13.3927 - val_categorical_accuracy: 0.1944\n",
      "Epoch 4/50\n",
      "17/17 [==============================] - ETA: 0s - loss: 1.2781 - categorical_accuracy: 0.4902\n",
      "Epoch 00004: saving model to model_init_2022-01-2603_19_42.550577/model-00004-1.27812-0.49020-6.71627-0.30556.h5\n",
      "17/17 [==============================] - 82s 5s/step - loss: 1.2781 - categorical_accuracy: 0.4902 - val_loss: 6.7163 - val_categorical_accuracy: 0.3056\n",
      "Epoch 5/50\n",
      "17/17 [==============================] - ETA: 0s - loss: 1.0919 - categorical_accuracy: 0.5867\n",
      "Epoch 00005: saving model to model_init_2022-01-2603_19_42.550577/model-00005-1.09185-0.58673-6.42970-0.25000.h5\n",
      "17/17 [==============================] - 76s 4s/step - loss: 1.0919 - categorical_accuracy: 0.5867 - val_loss: 6.4297 - val_categorical_accuracy: 0.2500\n",
      "Epoch 6/50\n",
      "17/17 [==============================] - ETA: 0s - loss: 1.0646 - categorical_accuracy: 0.5475\n",
      "Epoch 00006: saving model to model_init_2022-01-2603_19_42.550577/model-00006-1.06460-0.54751-6.12937-0.08333.h5\n",
      "17/17 [==============================] - 78s 5s/step - loss: 1.0646 - categorical_accuracy: 0.5475 - val_loss: 6.1294 - val_categorical_accuracy: 0.0833\n",
      "Epoch 7/50\n",
      "17/17 [==============================] - ETA: 0s - loss: 1.0273 - categorical_accuracy: 0.5882\n",
      "Epoch 00007: saving model to model_init_2022-01-2603_19_42.550577/model-00007-1.02730-0.58824-3.07258-0.16667.h5\n",
      "17/17 [==============================] - 77s 5s/step - loss: 1.0273 - categorical_accuracy: 0.5882 - val_loss: 3.0726 - val_categorical_accuracy: 0.1667\n",
      "Epoch 8/50\n",
      "17/17 [==============================] - ETA: 0s - loss: 0.9930 - categorical_accuracy: 0.5928\n",
      "Epoch 00008: saving model to model_init_2022-01-2603_19_42.550577/model-00008-0.99302-0.59276-2.56269-0.25000.h5\n",
      "17/17 [==============================] - 77s 5s/step - loss: 0.9930 - categorical_accuracy: 0.5928 - val_loss: 2.5627 - val_categorical_accuracy: 0.2500\n",
      "Epoch 9/50\n",
      "17/17 [==============================] - ETA: 0s - loss: 0.9044 - categorical_accuracy: 0.6425\n",
      "Epoch 00009: saving model to model_init_2022-01-2603_19_42.550577/model-00009-0.90436-0.64253-2.50090-0.25000.h5\n",
      "17/17 [==============================] - 78s 5s/step - loss: 0.9044 - categorical_accuracy: 0.6425 - val_loss: 2.5009 - val_categorical_accuracy: 0.2500\n",
      "Epoch 10/50\n",
      "17/17 [==============================] - ETA: 0s - loss: 0.9301 - categorical_accuracy: 0.6199\n",
      "Epoch 00010: saving model to model_init_2022-01-2603_19_42.550577/model-00010-0.93014-0.61991-3.56535-0.16667.h5\n",
      "17/17 [==============================] - 77s 5s/step - loss: 0.9301 - categorical_accuracy: 0.6199 - val_loss: 3.5654 - val_categorical_accuracy: 0.1667\n",
      "Epoch 11/50\n",
      "17/17 [==============================] - ETA: 0s - loss: 0.8700 - categorical_accuracy: 0.6591\n",
      "Epoch 00011: saving model to model_init_2022-01-2603_19_42.550577/model-00011-0.87002-0.65913-3.67035-0.25000.h5\n",
      "17/17 [==============================] - 77s 5s/step - loss: 0.8700 - categorical_accuracy: 0.6591 - val_loss: 3.6703 - val_categorical_accuracy: 0.2500\n",
      "Epoch 12/50\n",
      "17/17 [==============================] - ETA: 0s - loss: 0.7743 - categorical_accuracy: 0.7014\n",
      "Epoch 00012: saving model to model_init_2022-01-2603_19_42.550577/model-00012-0.77430-0.70136-2.49743-0.33333.h5\n",
      "17/17 [==============================] - 77s 5s/step - loss: 0.7743 - categorical_accuracy: 0.7014 - val_loss: 2.4974 - val_categorical_accuracy: 0.3333\n",
      "Epoch 13/50\n",
      "17/17 [==============================] - ETA: 0s - loss: 0.8393 - categorical_accuracy: 0.6878\n",
      "Epoch 00013: saving model to model_init_2022-01-2603_19_42.550577/model-00013-0.83928-0.68778-1.39657-0.50000.h5\n",
      "17/17 [==============================] - 77s 5s/step - loss: 0.8393 - categorical_accuracy: 0.6878 - val_loss: 1.3966 - val_categorical_accuracy: 0.5000\n",
      "Epoch 14/50\n",
      "17/17 [==============================] - ETA: 0s - loss: 0.7197 - categorical_accuracy: 0.6998\n",
      "Epoch 00014: saving model to model_init_2022-01-2603_19_42.550577/model-00014-0.71971-0.69985-3.57713-0.25000.h5\n",
      "17/17 [==============================] - 78s 5s/step - loss: 0.7197 - categorical_accuracy: 0.6998 - val_loss: 3.5771 - val_categorical_accuracy: 0.2500\n",
      "Epoch 15/50\n",
      "17/17 [==============================] - ETA: 0s - loss: 0.7305 - categorical_accuracy: 0.7149\n",
      "Epoch 00015: saving model to model_init_2022-01-2603_19_42.550577/model-00015-0.73053-0.71493-2.76694-0.08333.h5\n",
      "17/17 [==============================] - 77s 5s/step - loss: 0.7305 - categorical_accuracy: 0.7149 - val_loss: 2.7669 - val_categorical_accuracy: 0.0833\n",
      "Epoch 16/50\n",
      "17/17 [==============================] - ETA: 0s - loss: 0.7207 - categorical_accuracy: 0.7164\n",
      "Epoch 00016: saving model to model_init_2022-01-2603_19_42.550577/model-00016-0.72070-0.71644-8.67141-0.00000.h5\n",
      "17/17 [==============================] - 78s 5s/step - loss: 0.7207 - categorical_accuracy: 0.7164 - val_loss: 8.6714 - val_categorical_accuracy: 0.0000e+00\n",
      "Epoch 17/50\n",
      "17/17 [==============================] - ETA: 0s - loss: 0.5992 - categorical_accuracy: 0.7632\n",
      "Epoch 00017: saving model to model_init_2022-01-2603_19_42.550577/model-00017-0.59925-0.76320-2.60959-0.25000.h5\n",
      "17/17 [==============================] - 79s 5s/step - loss: 0.5992 - categorical_accuracy: 0.7632 - val_loss: 2.6096 - val_categorical_accuracy: 0.2500\n",
      "Epoch 18/50\n",
      "17/17 [==============================] - ETA: 0s - loss: 0.6002 - categorical_accuracy: 0.7602\n",
      "Epoch 00018: saving model to model_init_2022-01-2603_19_42.550577/model-00018-0.60018-0.76018-2.11503-0.41667.h5\n",
      "\n",
      "Epoch 00018: ReduceLROnPlateau reducing learning rate to 0.0019999999552965165.\n",
      "17/17 [==============================] - 79s 5s/step - loss: 0.6002 - categorical_accuracy: 0.7602 - val_loss: 2.1150 - val_categorical_accuracy: 0.4167\n",
      "Epoch 19/50\n",
      "17/17 [==============================] - ETA: 0s - loss: 0.5303 - categorical_accuracy: 0.7768\n",
      "Epoch 00019: saving model to model_init_2022-01-2603_19_42.550577/model-00019-0.53034-0.77677-2.04736-0.25000.h5\n",
      "17/17 [==============================] - 78s 5s/step - loss: 0.5303 - categorical_accuracy: 0.7768 - val_loss: 2.0474 - val_categorical_accuracy: 0.2500\n",
      "Epoch 20/50\n",
      "17/17 [==============================] - ETA: 0s - loss: 0.4389 - categorical_accuracy: 0.8190\n",
      "Epoch 00020: saving model to model_init_2022-01-2603_19_42.550577/model-00020-0.43888-0.81900-2.40881-0.50000.h5\n",
      "17/17 [==============================] - 79s 5s/step - loss: 0.4389 - categorical_accuracy: 0.8190 - val_loss: 2.4088 - val_categorical_accuracy: 0.5000\n",
      "Epoch 21/50\n",
      "17/17 [==============================] - ETA: 0s - loss: 0.4166 - categorical_accuracy: 0.8311\n",
      "Epoch 00021: saving model to model_init_2022-01-2603_19_42.550577/model-00021-0.41657-0.83107-2.08577-0.50000.h5\n",
      "17/17 [==============================] - 78s 5s/step - loss: 0.4166 - categorical_accuracy: 0.8311 - val_loss: 2.0858 - val_categorical_accuracy: 0.5000\n",
      "Epoch 22/50\n",
      "17/17 [==============================] - ETA: 0s - loss: 0.3876 - categorical_accuracy: 0.8582\n",
      "Epoch 00022: saving model to model_init_2022-01-2603_19_42.550577/model-00022-0.38756-0.85822-3.11702-0.08333.h5\n",
      "17/17 [==============================] - 77s 5s/step - loss: 0.3876 - categorical_accuracy: 0.8582 - val_loss: 3.1170 - val_categorical_accuracy: 0.0833\n",
      "Epoch 23/50\n",
      "17/17 [==============================] - ETA: 0s - loss: 0.4068 - categorical_accuracy: 0.8507\n",
      "Epoch 00023: saving model to model_init_2022-01-2603_19_42.550577/model-00023-0.40682-0.85068-1.66085-0.50000.h5\n",
      "\n",
      "Epoch 00023: ReduceLROnPlateau reducing learning rate to 0.001.\n",
      "17/17 [==============================] - 77s 5s/step - loss: 0.4068 - categorical_accuracy: 0.8507 - val_loss: 1.6609 - val_categorical_accuracy: 0.5000\n",
      "Epoch 24/50\n",
      "17/17 [==============================] - ETA: 0s - loss: 0.3025 - categorical_accuracy: 0.8718\n",
      "Epoch 00024: saving model to model_init_2022-01-2603_19_42.550577/model-00024-0.30254-0.87179-1.47448-0.58333.h5\n",
      "17/17 [==============================] - 77s 5s/step - loss: 0.3025 - categorical_accuracy: 0.8718 - val_loss: 1.4745 - val_categorical_accuracy: 0.5833\n",
      "Epoch 25/50\n",
      "17/17 [==============================] - ETA: 0s - loss: 0.3108 - categorical_accuracy: 0.8808\n",
      "Epoch 00025: saving model to model_init_2022-01-2603_19_42.550577/model-00025-0.31082-0.88084-1.60195-0.41667.h5\n",
      "17/17 [==============================] - 77s 5s/step - loss: 0.3108 - categorical_accuracy: 0.8808 - val_loss: 1.6019 - val_categorical_accuracy: 0.4167\n",
      "Epoch 26/50\n",
      "17/17 [==============================] - ETA: 0s - loss: 0.3103 - categorical_accuracy: 0.8778\n",
      "Epoch 00026: saving model to model_init_2022-01-2603_19_42.550577/model-00026-0.31027-0.87783-1.21355-0.58333.h5\n",
      "17/17 [==============================] - 77s 5s/step - loss: 0.3103 - categorical_accuracy: 0.8778 - val_loss: 1.2135 - val_categorical_accuracy: 0.5833\n",
      "Epoch 27/50\n",
      "17/17 [==============================] - ETA: 0s - loss: 0.2980 - categorical_accuracy: 0.8974\n",
      "Epoch 00027: saving model to model_init_2022-01-2603_19_42.550577/model-00027-0.29799-0.89744-1.57682-0.50000.h5\n",
      "17/17 [==============================] - 78s 5s/step - loss: 0.2980 - categorical_accuracy: 0.8974 - val_loss: 1.5768 - val_categorical_accuracy: 0.5000\n",
      "Epoch 28/50\n",
      "17/17 [==============================] - ETA: 0s - loss: 0.2998 - categorical_accuracy: 0.8839\n",
      "Epoch 00028: saving model to model_init_2022-01-2603_19_42.550577/model-00028-0.29984-0.88386-1.55003-0.58333.h5\n",
      "17/17 [==============================] - 77s 5s/step - loss: 0.2998 - categorical_accuracy: 0.8839 - val_loss: 1.5500 - val_categorical_accuracy: 0.5833\n",
      "Epoch 29/50\n",
      "17/17 [==============================] - ETA: 0s - loss: 0.2927 - categorical_accuracy: 0.8869\n",
      "Epoch 00029: saving model to model_init_2022-01-2603_19_42.550577/model-00029-0.29272-0.88688-1.45757-0.33333.h5\n",
      "17/17 [==============================] - 78s 5s/step - loss: 0.2927 - categorical_accuracy: 0.8869 - val_loss: 1.4576 - val_categorical_accuracy: 0.3333\n",
      "Epoch 30/50\n",
      "17/17 [==============================] - ETA: 0s - loss: 0.2785 - categorical_accuracy: 0.8989\n",
      "Epoch 00030: saving model to model_init_2022-01-2603_19_42.550577/model-00030-0.27851-0.89894-2.24721-0.41667.h5\n",
      "17/17 [==============================] - 77s 5s/step - loss: 0.2785 - categorical_accuracy: 0.8989 - val_loss: 2.2472 - val_categorical_accuracy: 0.4167\n",
      "Epoch 31/50\n",
      "17/17 [==============================] - ETA: 0s - loss: 0.2751 - categorical_accuracy: 0.9005\n",
      "Epoch 00031: saving model to model_init_2022-01-2603_19_42.550577/model-00031-0.27514-0.90045-1.23531-0.58333.h5\n",
      "\n",
      "Epoch 00031: ReduceLROnPlateau reducing learning rate to 0.001.\n",
      "17/17 [==============================] - 77s 5s/step - loss: 0.2751 - categorical_accuracy: 0.9005 - val_loss: 1.2353 - val_categorical_accuracy: 0.5833\n",
      "Epoch 32/50\n",
      "17/17 [==============================] - ETA: 0s - loss: 0.2828 - categorical_accuracy: 0.8869\n",
      "Epoch 00032: saving model to model_init_2022-01-2603_19_42.550577/model-00032-0.28278-0.88688-1.19573-0.58333.h5\n",
      "17/17 [==============================] - 77s 5s/step - loss: 0.2828 - categorical_accuracy: 0.8869 - val_loss: 1.1957 - val_categorical_accuracy: 0.5833\n",
      "Epoch 33/50\n",
      "17/17 [==============================] - ETA: 0s - loss: 0.2873 - categorical_accuracy: 0.8869\n",
      "Epoch 00033: saving model to model_init_2022-01-2603_19_42.550577/model-00033-0.28732-0.88688-0.99689-0.66667.h5\n",
      "17/17 [==============================] - 77s 5s/step - loss: 0.2873 - categorical_accuracy: 0.8869 - val_loss: 0.9969 - val_categorical_accuracy: 0.6667\n",
      "Epoch 34/50\n",
      "17/17 [==============================] - ETA: 0s - loss: 0.2264 - categorical_accuracy: 0.9110\n",
      "Epoch 00034: saving model to model_init_2022-01-2603_19_42.550577/model-00034-0.22644-0.91101-2.15590-0.41667.h5\n",
      "17/17 [==============================] - 77s 5s/step - loss: 0.2264 - categorical_accuracy: 0.9110 - val_loss: 2.1559 - val_categorical_accuracy: 0.4167\n",
      "Epoch 35/50\n",
      "17/17 [==============================] - ETA: 0s - loss: 0.2805 - categorical_accuracy: 0.8959\n",
      "Epoch 00035: saving model to model_init_2022-01-2603_19_42.550577/model-00035-0.28052-0.89593-0.80212-0.83333.h5\n",
      "17/17 [==============================] - 76s 4s/step - loss: 0.2805 - categorical_accuracy: 0.8959 - val_loss: 0.8021 - val_categorical_accuracy: 0.8333\n",
      "Epoch 36/50\n",
      "17/17 [==============================] - ETA: 0s - loss: 0.2713 - categorical_accuracy: 0.8944\n",
      "Epoch 00036: saving model to model_init_2022-01-2603_19_42.550577/model-00036-0.27127-0.89442-0.32151-0.91667.h5\n",
      "17/17 [==============================] - 74s 4s/step - loss: 0.2713 - categorical_accuracy: 0.8944 - val_loss: 0.3215 - val_categorical_accuracy: 0.9167\n",
      "Epoch 37/50\n",
      "17/17 [==============================] - ETA: 0s - loss: 0.2331 - categorical_accuracy: 0.9065\n",
      "Epoch 00037: saving model to model_init_2022-01-2603_19_42.550577/model-00037-0.23310-0.90649-0.80637-0.75000.h5\n",
      "17/17 [==============================] - 77s 5s/step - loss: 0.2331 - categorical_accuracy: 0.9065 - val_loss: 0.8064 - val_categorical_accuracy: 0.7500\n",
      "Epoch 38/50\n",
      "17/17 [==============================] - ETA: 0s - loss: 0.2321 - categorical_accuracy: 0.9216\n",
      "Epoch 00038: saving model to model_init_2022-01-2603_19_42.550577/model-00038-0.23213-0.92157-0.59086-0.66667.h5\n",
      "17/17 [==============================] - 77s 5s/step - loss: 0.2321 - categorical_accuracy: 0.9216 - val_loss: 0.5909 - val_categorical_accuracy: 0.6667\n",
      "Epoch 39/50\n",
      "17/17 [==============================] - ETA: 0s - loss: 0.2159 - categorical_accuracy: 0.9397\n",
      "Epoch 00039: saving model to model_init_2022-01-2603_19_42.550577/model-00039-0.21589-0.93967-1.81518-0.58333.h5\n",
      "17/17 [==============================] - 77s 5s/step - loss: 0.2159 - categorical_accuracy: 0.9397 - val_loss: 1.8152 - val_categorical_accuracy: 0.5833\n",
      "Epoch 40/50\n",
      "17/17 [==============================] - ETA: 0s - loss: 0.2094 - categorical_accuracy: 0.9321\n",
      "Epoch 00040: saving model to model_init_2022-01-2603_19_42.550577/model-00040-0.20942-0.93213-0.73389-0.66667.h5\n",
      "17/17 [==============================] - 76s 4s/step - loss: 0.2094 - categorical_accuracy: 0.9321 - val_loss: 0.7339 - val_categorical_accuracy: 0.6667\n",
      "Epoch 41/50\n",
      "17/17 [==============================] - ETA: 0s - loss: 0.2038 - categorical_accuracy: 0.9261\n",
      "Epoch 00041: saving model to model_init_2022-01-2603_19_42.550577/model-00041-0.20380-0.92609-0.53219-0.83333.h5\n",
      "\n",
      "Epoch 00041: ReduceLROnPlateau reducing learning rate to 0.001.\n",
      "17/17 [==============================] - 76s 4s/step - loss: 0.2038 - categorical_accuracy: 0.9261 - val_loss: 0.5322 - val_categorical_accuracy: 0.8333\n",
      "Epoch 42/50\n",
      "17/17 [==============================] - ETA: 0s - loss: 0.2313 - categorical_accuracy: 0.9080\n",
      "Epoch 00042: saving model to model_init_2022-01-2603_19_42.550577/model-00042-0.23129-0.90799-0.96211-0.83333.h5\n",
      "17/17 [==============================] - 77s 5s/step - loss: 0.2313 - categorical_accuracy: 0.9080 - val_loss: 0.9621 - val_categorical_accuracy: 0.8333\n",
      "Epoch 43/50\n",
      "17/17 [==============================] - ETA: 0s - loss: 0.1970 - categorical_accuracy: 0.9246\n",
      "Epoch 00043: saving model to model_init_2022-01-2603_19_42.550577/model-00043-0.19703-0.92459-0.59539-0.83333.h5\n",
      "17/17 [==============================] - 78s 5s/step - loss: 0.1970 - categorical_accuracy: 0.9246 - val_loss: 0.5954 - val_categorical_accuracy: 0.8333\n",
      "Epoch 44/50\n",
      "17/17 [==============================] - ETA: 0s - loss: 0.2048 - categorical_accuracy: 0.9306\n",
      "Epoch 00044: saving model to model_init_2022-01-2603_19_42.550577/model-00044-0.20476-0.93062-0.33327-0.91667.h5\n",
      "17/17 [==============================] - 78s 5s/step - loss: 0.2048 - categorical_accuracy: 0.9306 - val_loss: 0.3333 - val_categorical_accuracy: 0.9167\n",
      "Epoch 45/50\n",
      "17/17 [==============================] - ETA: 0s - loss: 0.2034 - categorical_accuracy: 0.9261\n",
      "Epoch 00045: saving model to model_init_2022-01-2603_19_42.550577/model-00045-0.20344-0.92609-0.54209-0.83333.h5\n",
      "17/17 [==============================] - 78s 5s/step - loss: 0.2034 - categorical_accuracy: 0.9261 - val_loss: 0.5421 - val_categorical_accuracy: 0.8333\n",
      "Epoch 46/50\n",
      "17/17 [==============================] - ETA: 0s - loss: 0.2386 - categorical_accuracy: 0.8989\n",
      "Epoch 00046: saving model to model_init_2022-01-2603_19_42.550577/model-00046-0.23858-0.89894-0.47070-0.83333.h5\n",
      "\n",
      "Epoch 00046: ReduceLROnPlateau reducing learning rate to 0.001.\n",
      "17/17 [==============================] - 77s 5s/step - loss: 0.2386 - categorical_accuracy: 0.8989 - val_loss: 0.4707 - val_categorical_accuracy: 0.8333\n",
      "Epoch 47/50\n",
      "17/17 [==============================] - ETA: 0s - loss: 0.2040 - categorical_accuracy: 0.9216\n",
      "Epoch 00047: saving model to model_init_2022-01-2603_19_42.550577/model-00047-0.20401-0.92157-0.32064-0.83333.h5\n",
      "17/17 [==============================] - 76s 4s/step - loss: 0.2040 - categorical_accuracy: 0.9216 - val_loss: 0.3206 - val_categorical_accuracy: 0.8333\n",
      "Epoch 48/50\n",
      "17/17 [==============================] - ETA: 0s - loss: 0.1870 - categorical_accuracy: 0.9412\n",
      "Epoch 00048: saving model to model_init_2022-01-2603_19_42.550577/model-00048-0.18704-0.94118-0.91886-0.66667.h5\n",
      "17/17 [==============================] - 77s 5s/step - loss: 0.1870 - categorical_accuracy: 0.9412 - val_loss: 0.9189 - val_categorical_accuracy: 0.6667\n",
      "Epoch 49/50\n",
      "17/17 [==============================] - ETA: 0s - loss: 0.1687 - categorical_accuracy: 0.9487\n",
      "Epoch 00049: saving model to model_init_2022-01-2603_19_42.550577/model-00049-0.16868-0.94872-1.25864-0.58333.h5\n",
      "17/17 [==============================] - 79s 5s/step - loss: 0.1687 - categorical_accuracy: 0.9487 - val_loss: 1.2586 - val_categorical_accuracy: 0.5833\n",
      "Epoch 50/50\n",
      "17/17 [==============================] - ETA: 0s - loss: 0.1479 - categorical_accuracy: 0.9623\n",
      "Epoch 00050: saving model to model_init_2022-01-2603_19_42.550577/model-00050-0.14795-0.96229-1.14801-0.66667.h5\n",
      "17/17 [==============================] - 79s 5s/step - loss: 0.1479 - categorical_accuracy: 0.9623 - val_loss: 1.1480 - val_categorical_accuracy: 0.6667\n"
     ]
    }
   ],
   "source": [
    "history = model.fit(train_generator, steps_per_epoch=steps_per_epoch, epochs=num_epochs, verbose=1, \n",
    "                    callbacks=callbacks_list, validation_data=val_generator, \n",
    "                    validation_steps=validation_steps, class_weight=None, workers=1, initial_epoch=0)"
   ]
  },
  {
   "cell_type": "code",
   "execution_count": 34,
   "metadata": {},
   "outputs": [
    {
     "data": {
      "text/plain": [
       "<matplotlib.legend.Legend at 0x7f67f477cda0>"
      ]
     },
     "execution_count": 34,
     "metadata": {},
     "output_type": "execute_result"
    },
    {
     "data": {
      "image/png": "[encoded data removed]",
      "text/plain": [
       "<Figure size 1440x432 with 2 Axes>"
      ]
     },
     "metadata": {
      "needs_background": "light"
     },
     "output_type": "display_data"
    }
   ],
   "source": [
    "import matplotlib.pyplot as plt\n",
    "%matplotlib inline\n",
    "\n",
    "plt.figure(figsize=(20,6))\n",
    "ax1 = plt.subplot(121)\n",
    "ax1 = plt.plot(history.history['loss'])\n",
    "ax1 = plt.plot(history.history['val_loss'])\n",
    "plt.title('model loss')\n",
    "plt.ylabel('loss')\n",
    "plt.xlabel('epoch')\n",
    "plt.legend(['train', 'validation'], loc='lower left')\n",
    "ax2 = plt.subplot(122)\n",
    "ax2 = plt.plot(history.history['categorical_accuracy'])\n",
    "ax2 = plt.plot(history.history['val_categorical_accuracy'])\n",
    "plt.title('model accuracy')\n",
    "plt.ylabel('categorical_accuracy')\n",
    "plt.xlabel('epoch')\n",
    "plt.legend(['train', 'validation'], loc='lower left')"
   ]
  },
  {
   "cell_type": "code",
   "execution_count": null,
   "metadata": {},
   "outputs": [],
   "source": []
  }
 ],
 "metadata": {
  "kernelspec": {
   "display_name": "Python 3",
   "language": "python",
   "name": "python3"
  },
  "language_info": {
   "codemirror_mode": {
    "name": "ipython",
    "version": 3
   },
   "file_extension": ".py",
   "mimetype": "text/x-python",
   "name": "python",
   "nbconvert_exporter": "python",
   "pygments_lexer": "ipython3",
   "version": "3.8.10"
  }
 },
 "nbformat": 4,
 "nbformat_minor": 4
}
